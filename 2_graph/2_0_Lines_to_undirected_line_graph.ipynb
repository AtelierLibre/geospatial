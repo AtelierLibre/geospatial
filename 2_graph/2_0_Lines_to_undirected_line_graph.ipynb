{
 "cells": [
  {
   "cell_type": "markdown",
   "id": "b5ab11b6-5262-4003-ad31-a9d251e61310",
   "metadata": {},
   "source": [
    "# 2.0 Lines to line graph"
   ]
  },
  {
   "cell_type": "markdown",
   "id": "fcd911bd-1677-4845-945d-a31f4350c0c4",
   "metadata": {},
   "source": [
    "## 0. Libraries and settings"
   ]
  },
  {
   "cell_type": "code",
   "execution_count": null,
   "id": "b075cf02-cabd-484f-9b5c-81fdba63d0a4",
   "metadata": {},
   "outputs": [],
   "source": [
    "# Libraries\n",
    "from datetime import datetime\n",
    "import geopandas as gpd\n",
    "import shapely\n",
    "\n",
    "#Settings\n",
    "gpd.options.io_engine = \"pyogrio\"\n",
    "\n",
    "print(\"Last run:\", datetime.now())\n",
    "print(\"GeoPandas version:\", gpd.__version__)\n",
    "print(\"Shapely version:\", shapely.__version__)"
   ]
  },
  {
   "cell_type": "markdown",
   "id": "ad6f6011-f89f-4e37-b346-b0a36e4fa181",
   "metadata": {},
   "source": [
    "# 1. Read data"
   ]
  },
  {
   "cell_type": "code",
   "execution_count": null,
   "id": "94661717-a5d9-46d6-b6c1-2a8a5e9adcfb",
   "metadata": {},
   "outputs": [],
   "source": [
    "lines = gpd.read_file('data/intermediate/00_lines.gpkg')"
   ]
  },
  {
   "cell_type": "code",
   "execution_count": null,
   "id": "64fcf1c7-e01a-47f4-9dc7-e0d06a2eb0bc",
   "metadata": {},
   "outputs": [],
   "source": [
    "lines.plot()\n",
    "lines"
   ]
  },
  {
   "cell_type": "markdown",
   "id": "d121472c-632f-42a6-b30b-de6e7b384e29",
   "metadata": {},
   "source": [
    "## 2. Use a self spatial join to create the graph"
   ]
  },
  {
   "cell_type": "code",
   "execution_count": null,
   "id": "89b7daaf-6e7a-4e92-98ec-152297dc5d9a",
   "metadata": {},
   "outputs": [],
   "source": [
    "line_graph = lines.sjoin(lines)"
   ]
  },
  {
   "cell_type": "code",
   "execution_count": null,
   "id": "e28b24cc-ca28-479b-81a7-be4631364b1f",
   "metadata": {},
   "outputs": [],
   "source": [
    "line_graph.head(2)"
   ]
  },
  {
   "cell_type": "code",
   "execution_count": null,
   "id": "3b760709-a7cf-4cd6-a830-f70e27ad2ce6",
   "metadata": {},
   "outputs": [],
   "source": [
    "# Only retain the two id columns\n",
    "line_graph = line_graph[['line_id_left','line_id_right']].copy()"
   ]
  },
  {
   "cell_type": "code",
   "execution_count": null,
   "id": "b6ef955f-04a4-41f2-b83e-d2bc30e3beff",
   "metadata": {},
   "outputs": [],
   "source": [
    "line_graph"
   ]
  },
  {
   "cell_type": "code",
   "execution_count": null,
   "id": "35367aca-6b3e-452e-a315-f0455d73a336",
   "metadata": {},
   "outputs": [],
   "source": [
    "# Remove self loops\n",
    "line_graph = line_graph[\n",
    "    line_graph['line_id_left'] != line_graph['line_id_right']\n",
    "].copy()"
   ]
  },
  {
   "cell_type": "code",
   "execution_count": null,
   "id": "8f1e4033-a13c-49b3-9bea-88b62a340f37",
   "metadata": {},
   "outputs": [],
   "source": [
    "line_graph"
   ]
  },
  {
   "cell_type": "code",
   "execution_count": null,
   "id": "293ecd10-dec9-4ab8-a9bd-71dfb2a7f51f",
   "metadata": {},
   "outputs": [],
   "source": [
    "# Remove directed links"
   ]
  },
  {
   "cell_type": "code",
   "execution_count": null,
   "id": "b7b38109-b120-4504-93c8-1f633c1ef270",
   "metadata": {},
   "outputs": [],
   "source": [
    "line_graph"
   ]
  },
  {
   "cell_type": "code",
   "execution_count": null,
   "id": "e7f5f60b-f413-41cf-91a5-fd61b6b142f8",
   "metadata": {},
   "outputs": [],
   "source": []
  },
  {
   "cell_type": "code",
   "execution_count": null,
   "id": "8a80579a-a66f-456c-8314-434d5e798a1d",
   "metadata": {},
   "outputs": [],
   "source": []
  },
  {
   "cell_type": "code",
   "execution_count": null,
   "id": "9805f921-a2d4-445c-a5de-0b24f8283b01",
   "metadata": {},
   "outputs": [],
   "source": []
  }
 ],
 "metadata": {
  "kernelspec": {
   "display_name": "Python 3 (ipykernel)",
   "language": "python",
   "name": "python3"
  },
  "language_info": {
   "codemirror_mode": {
    "name": "ipython",
    "version": 3
   },
   "file_extension": ".py",
   "mimetype": "text/x-python",
   "name": "python",
   "nbconvert_exporter": "python",
   "pygments_lexer": "ipython3",
   "version": "3.13.7"
  }
 },
 "nbformat": 4,
 "nbformat_minor": 5
}
