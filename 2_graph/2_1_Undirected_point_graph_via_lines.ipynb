{
 "cells": [
  {
   "cell_type": "markdown",
   "id": "1f4d385e-a05c-4921-86fe-6c138ded7b48",
   "metadata": {},
   "source": [
    "# 2.1 Undirected point graph via lines\n",
    "\n",
    "Unlike lines, points do not touch each other and so have to be joined *via* lines to create their graph."
   ]
  },
  {
   "cell_type": "markdown",
   "id": "1b99a53e-50ec-47b6-9893-69586389355c",
   "metadata": {},
   "source": [
    "## 0. Libraries and settings"
   ]
  },
  {
   "cell_type": "code",
   "execution_count": null,
   "id": "597833a8-01c6-44b1-b9ef-96abf07f9888",
   "metadata": {},
   "outputs": [],
   "source": [
    "# Libraries\n",
    "from datetime import datetime\n",
    "import geopandas as gpd\n",
    "import networkx as nx\n",
    "import pandas as pd\n",
    "import shapely\n",
    "\n",
    "#Settings\n",
    "gpd.options.io_engine = \"pyogrio\"\n",
    "\n",
    "print(\"Last run:\", datetime.now())\n",
    "print(\"GeoPandas version:\", gpd.__version__)\n",
    "print(\"NetworkX version:\", nx.__version__)\n",
    "print(\"Pandas version:\", pd.__version__)\n",
    "print(\"Shapely version:\", shapely.__version__)"
   ]
  },
  {
   "cell_type": "code",
   "execution_count": null,
   "id": "007a4f4d-990c-4e27-a10e-5b188d930a99",
   "metadata": {},
   "outputs": [],
   "source": [
    "lines_in = '../0_data/intermediate/4_lines.gpkg'\n",
    "points_in = '../0_data/intermediate/4_lines_points.gpkg'"
   ]
  },
  {
   "cell_type": "markdown",
   "id": "1af43176-2838-4aa4-9da5-417fdebd2d8e",
   "metadata": {},
   "source": [
    "## 1. Read data"
   ]
  },
  {
   "cell_type": "code",
   "execution_count": null,
   "id": "8a4a2106-f965-4c83-940a-3726165a481d",
   "metadata": {},
   "outputs": [],
   "source": [
    "lines = gpd.read_file( lines_in )\n",
    "points = gpd.read_file( points_in )"
   ]
  },
  {
   "cell_type": "code",
   "execution_count": null,
   "id": "64f9a6b6-1090-4846-8380-b422efb01a82",
   "metadata": {},
   "outputs": [],
   "source": [
    "ax = lines.plot(color='lightgrey', zorder=-1)\n",
    "points.plot(ax=ax, color='red', zorder=0)\n",
    "\n",
    "# labels\n",
    "for x, y, label in zip(points.geometry.x, points.geometry.y, points['point_id']):\n",
    "    ax.annotate(label, xy=(x, y), xytext=(3, 3), textcoords=\"offset points\")\n",
    "# Note centroid will only work for line segments\n",
    "for x, y, label in zip(lines.geometry.centroid.x, lines.geometry.centroid.y, lines['line_id']):\n",
    "    ax.annotate(label, xy=(x, y), xytext=(3, 3), textcoords=\"offset points\")"
   ]
  },
  {
   "cell_type": "markdown",
   "id": "9f2a13e8-7392-460e-a16a-38e9070f97c1",
   "metadata": {},
   "source": [
    "## 2. Create graph linking points via lines"
   ]
  },
  {
   "cell_type": "code",
   "execution_count": null,
   "id": "9137d657-8ba5-48a7-b4ea-af78bfbb744d",
   "metadata": {},
   "outputs": [],
   "source": [
    "points_joining_lines = points.sjoin(lines)\n",
    "points_joining_lines"
   ]
  },
  {
   "cell_type": "code",
   "execution_count": null,
   "id": "fcb7adf6-f150-4b68-8e5e-9c98fccf0e79",
   "metadata": {},
   "outputs": [],
   "source": [
    "t = points_joining_lines[['line_id','point_id']].groupby('line_id').agg(list).reset_index()\n",
    "t"
   ]
  },
  {
   "cell_type": "code",
   "execution_count": null,
   "id": "1491b93a-a548-4141-8c2c-be7ba9d2e5a6",
   "metadata": {},
   "outputs": [],
   "source": [
    "u = t.set_index('line_id')\n",
    "u"
   ]
  },
  {
   "cell_type": "code",
   "execution_count": null,
   "id": "4024aca7-0599-462d-9847-db5f3b4aeacb",
   "metadata": {},
   "outputs": [],
   "source": [
    "v = pd.DataFrame(u['point_id'].tolist(), index= u.index)\n",
    "v"
   ]
  },
  {
   "cell_type": "code",
   "execution_count": null,
   "id": "d00be7a9-afd0-4a0f-b27a-58e05e01b419",
   "metadata": {},
   "outputs": [],
   "source": [
    "n = nx.from_pandas_edgelist(v, 0, 1)"
   ]
  },
  {
   "cell_type": "code",
   "execution_count": null,
   "id": "63d2df36-77f0-4119-8c97-0e50d0ee4e5b",
   "metadata": {},
   "outputs": [],
   "source": [
    "n.edges"
   ]
  },
  {
   "cell_type": "code",
   "execution_count": null,
   "id": "c4d3ad9b-d710-41f0-8d10-4ec25a4c6c69",
   "metadata": {},
   "outputs": [],
   "source": [
    "type(n)"
   ]
  },
  {
   "cell_type": "markdown",
   "id": "b8655f01-f264-4372-a843-84dffa3d67b1",
   "metadata": {},
   "source": [
    "#### Convert to directed graph"
   ]
  },
  {
   "cell_type": "code",
   "execution_count": null,
   "id": "718a152d-b5cb-44e1-ba48-a3692988aece",
   "metadata": {},
   "outputs": [],
   "source": [
    "dn = n.to_directed()"
   ]
  },
  {
   "cell_type": "code",
   "execution_count": null,
   "id": "ad13e7ed-08f9-4524-b01f-67884b83eb1e",
   "metadata": {},
   "outputs": [],
   "source": [
    "dn.edges"
   ]
  },
  {
   "cell_type": "code",
   "execution_count": null,
   "id": "81b582e5-d9f9-4fd7-8cab-9deeb5811d17",
   "metadata": {},
   "outputs": [],
   "source": [
    "ldn = nx.line_graph(dn)"
   ]
  },
  {
   "cell_type": "code",
   "execution_count": null,
   "id": "be04778b-a230-4283-9b11-723d6fc4c32d",
   "metadata": {},
   "outputs": [],
   "source": [
    "ldn.edges"
   ]
  },
  {
   "cell_type": "code",
   "execution_count": null,
   "id": "ca4f76a7-ab93-4f69-88c9-562064d19304",
   "metadata": {},
   "outputs": [],
   "source": [
    "len(ldn.edges)"
   ]
  },
  {
   "cell_type": "code",
   "execution_count": null,
   "id": "8e71750d-054b-41e7-89a0-c96394b4b7fe",
   "metadata": {},
   "outputs": [],
   "source": [
    "ldn.nodes"
   ]
  },
  {
   "cell_type": "code",
   "execution_count": null,
   "id": "23a9384a-0d7d-4718-9bf0-775039cdbee0",
   "metadata": {},
   "outputs": [],
   "source": [
    "bc = nx.betweenness_centrality(ldn)\n",
    "bc"
   ]
  },
  {
   "cell_type": "code",
   "execution_count": null,
   "id": "2d2c3a37-0d43-4a61-809f-39c5fff74168",
   "metadata": {},
   "outputs": [],
   "source": []
  },
  {
   "cell_type": "code",
   "execution_count": null,
   "id": "5fa23125-fe1e-4cc6-b54e-de65b4b880b4",
   "metadata": {},
   "outputs": [],
   "source": []
  }
 ],
 "metadata": {
  "kernelspec": {
   "display_name": "Python 3 (ipykernel)",
   "language": "python",
   "name": "python3"
  },
  "language_info": {
   "codemirror_mode": {
    "name": "ipython",
    "version": 3
   },
   "file_extension": ".py",
   "mimetype": "text/x-python",
   "name": "python",
   "nbconvert_exporter": "python",
   "pygments_lexer": "ipython3",
   "version": "3.13.7"
  }
 },
 "nbformat": 4,
 "nbformat_minor": 5
}
