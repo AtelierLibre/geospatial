{
 "cells": [
  {
   "cell_type": "markdown",
   "id": "1aaa93a4-89f0-444b-92ff-10129c19f92b",
   "metadata": {},
   "source": [
    "# 1.0 Create 4 lines\n",
    "\n",
    "Creates a GeoPackage of 4 line segments (only 2 coordinates per LineSegment) from x,y coordinates."
   ]
  },
  {
   "cell_type": "markdown",
   "id": "fcd911bd-1677-4845-945d-a31f4350c0c4",
   "metadata": {},
   "source": [
    "## 0. Libraries and settings"
   ]
  },
  {
   "cell_type": "code",
   "execution_count": null,
   "id": "b075cf02-cabd-484f-9b5c-81fdba63d0a4",
   "metadata": {},
   "outputs": [],
   "source": [
    "# Libraries\n",
    "from datetime import datetime\n",
    "import geopandas as gpd\n",
    "import shapely\n",
    "\n",
    "#Settings\n",
    "gpd.options.io_engine = \"pyogrio\"\n",
    "\n",
    "print(\"Last run:\", datetime.now())\n",
    "print(\"GeoPandas version:\", gpd.__version__)\n",
    "print(\"Shapely version:\", shapely.__version__)"
   ]
  },
  {
   "cell_type": "code",
   "execution_count": null,
   "id": "b055e96b-74ae-4c05-b409-8a8be198889c",
   "metadata": {},
   "outputs": [],
   "source": [
    "file_out = '../0_data/intermediate/4_lines.gpkg'"
   ]
  },
  {
   "cell_type": "markdown",
   "id": "3c262207-af71-4282-a63f-4faceb81c180",
   "metadata": {},
   "source": [
    "## 1. Create Shapely LineStrings from Coordinates"
   ]
  },
  {
   "cell_type": "code",
   "execution_count": null,
   "id": "4728db6e-9dc4-42a5-bf52-b0478f44ee77",
   "metadata": {},
   "outputs": [],
   "source": [
    "lines = [\n",
    "    shapely.LineString([[-4,4],[0,0]]),\n",
    "    shapely.LineString([[-4,-1.071797],[0,0]]),\n",
    "    shapely.LineString([[0,0],[4,0]]),\n",
    "    shapely.LineString([[4,0],[5.071797,-4]]),\n",
    "]"
   ]
  },
  {
   "cell_type": "code",
   "execution_count": null,
   "id": "9b0ccbe8-aadd-4469-a3a4-12f074d6cffb",
   "metadata": {},
   "outputs": [],
   "source": [
    "lines[0]"
   ]
  },
  {
   "cell_type": "markdown",
   "id": "8782df59-b404-4c89-a942-8937bd7e7a1a",
   "metadata": {},
   "source": [
    "## 2. Create a GeoPandas GeoDataFrame with the lines as geometry\n",
    "\n",
    "***Note: Uses EPSG:27700 as a projected Coordinate Reference System***"
   ]
  },
  {
   "cell_type": "code",
   "execution_count": null,
   "id": "fa38a72d-c67a-4ce4-9c86-2ec7dbd8bb25",
   "metadata": {},
   "outputs": [],
   "source": [
    "lines_gdf = gpd.GeoDataFrame(geometry=lines, crs=27700)"
   ]
  },
  {
   "cell_type": "code",
   "execution_count": null,
   "id": "f73e3af1-11d4-4663-a830-d5d257cc0daa",
   "metadata": {},
   "outputs": [],
   "source": [
    "# Create an id for for every line\n",
    "lines_gdf = lines_gdf.reset_index(names='line_id')\n",
    "lines_gdf['line_id'] = 'l'+lines_gdf['line_id'].astype(str)"
   ]
  },
  {
   "cell_type": "code",
   "execution_count": null,
   "id": "21d00105-cd86-4666-b112-5f4461e48b53",
   "metadata": {},
   "outputs": [],
   "source": [
    "ax = lines_gdf.plot()\n",
    "# Note centroid will only work for line segments\n",
    "for x, y, label in zip(lines_gdf.geometry.centroid.x, lines_gdf.geometry.centroid.y, lines_gdf['line_id']):\n",
    "    ax.annotate(label, xy=(x, y), xytext=(3, 3), textcoords=\"offset points\")\n",
    "lines_gdf"
   ]
  },
  {
   "cell_type": "markdown",
   "id": "301a77f2-a2b0-4328-b8ac-8578765cf962",
   "metadata": {},
   "source": [
    "## 3. Save out to a GeoPackage"
   ]
  },
  {
   "cell_type": "code",
   "execution_count": null,
   "id": "0037953b-61ca-4b30-aead-8277d1603957",
   "metadata": {},
   "outputs": [],
   "source": [
    "lines_gdf.to_file( file_out )"
   ]
  },
  {
   "cell_type": "code",
   "execution_count": null,
   "id": "2d414b2f-e8aa-41a8-b3b9-156759cd5508",
   "metadata": {},
   "outputs": [],
   "source": []
  }
 ],
 "metadata": {
  "kernelspec": {
   "display_name": "Python 3 (ipykernel)",
   "language": "python",
   "name": "python3"
  },
  "language_info": {
   "codemirror_mode": {
    "name": "ipython",
    "version": 3
   },
   "file_extension": ".py",
   "mimetype": "text/x-python",
   "name": "python",
   "nbconvert_exporter": "python",
   "pygments_lexer": "ipython3",
   "version": "3.13.7"
  }
 },
 "nbformat": 4,
 "nbformat_minor": 5
}
