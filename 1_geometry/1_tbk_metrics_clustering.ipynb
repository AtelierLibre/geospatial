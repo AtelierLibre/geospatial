{
 "cells": [
  {
   "cell_type": "code",
   "execution_count": null,
   "id": "1b26c817-4794-4483-a920-820faedbef5c",
   "metadata": {},
   "outputs": [],
   "source": [
    "# importing required libraries\n",
    "import geopandas as gpd\n",
    "import matplotlib.pyplot as plt\n",
    "import numpy as np\n",
    "import pandas as pd\n",
    "import plotly.express as px\n",
    "import seaborn as sns\n",
    "import sklearn\n",
    "\n",
    "from sklearn.cluster import DBSCAN, HDBSCAN\n",
    "from sklearn.preprocessing import StandardScaler"
   ]
  },
  {
   "cell_type": "code",
   "execution_count": null,
   "id": "1890498f-b4b7-4234-954a-374d0494863b",
   "metadata": {},
   "outputs": [],
   "source": [
    "gdf = gpd.read_file('tabuk_metrics.gpkg')"
   ]
  },
  {
   "cell_type": "code",
   "execution_count": null,
   "id": "1e4bf168-a9cd-422a-90cb-4c7a55008d17",
   "metadata": {},
   "outputs": [],
   "source": [
    "gdf.head()"
   ]
  },
  {
   "cell_type": "code",
   "execution_count": null,
   "id": "ad967dfd-3435-424c-90a5-4915be6912e5",
   "metadata": {
    "scrolled": true
   },
   "outputs": [],
   "source": [
    "gdf.info()"
   ]
  },
  {
   "cell_type": "code",
   "execution_count": null,
   "id": "b6c5799f-02cc-4291-a2e9-419a73069766",
   "metadata": {},
   "outputs": [],
   "source": [
    "gdf.drop(columns='geometry').dtypes"
   ]
  },
  {
   "cell_type": "code",
   "execution_count": null,
   "id": "af28348c-f5cb-4318-b6aa-e27ba0a22d7d",
   "metadata": {},
   "outputs": [],
   "source": [
    "gdf['log10_area_m2'] = np.log10(gdf['area_m2'])"
   ]
  },
  {
   "cell_type": "code",
   "execution_count": null,
   "id": "8d6f6654-1d55-41ff-8d38-5a2dd15bd975",
   "metadata": {},
   "outputs": [],
   "source": [
    "sns.pairplot(\n",
    "    gdf.drop(columns='geometry')\n",
    ")"
   ]
  },
  {
   "cell_type": "markdown",
   "id": "9bbecb42-8518-483a-8e4c-b059960a81ea",
   "metadata": {},
   "source": [
    "### Standardise"
   ]
  },
  {
   "cell_type": "code",
   "execution_count": null,
   "id": "79ae3d7d-f0fa-4d91-a0f4-ede3ad527f7b",
   "metadata": {},
   "outputs": [],
   "source": [
    "gdf.drop(columns = ['area_m2','geometry']).columns"
   ]
  },
  {
   "cell_type": "code",
   "execution_count": null,
   "id": "a2dd312d-307e-4e20-a671-ad796be22b7c",
   "metadata": {},
   "outputs": [],
   "source": [
    "features = gdf.drop(columns = ['area_m2','geometry']).columns  # whatever subset you’re using\n",
    "scaler = StandardScaler()\n",
    "\n",
    "Z = scaler.fit_transform(gdf[features])\n",
    "\n",
    "Z_df = pd.DataFrame(Z, columns=features, index=gdf.index)"
   ]
  },
  {
   "cell_type": "code",
   "execution_count": null,
   "id": "a3948156-c5bf-417c-98e0-0ac80de9470f",
   "metadata": {},
   "outputs": [],
   "source": [
    "# now you can do correlation or pairplot\n",
    "sns.heatmap(Z_df.corr(), annot=True, cmap=\"coolwarm\", center=0)"
   ]
  },
  {
   "cell_type": "code",
   "execution_count": null,
   "id": "9a013056-2893-4f5c-8105-2d4126298d2e",
   "metadata": {},
   "outputs": [],
   "source": [
    "sns.pairplot(Z_df)"
   ]
  },
  {
   "cell_type": "code",
   "execution_count": null,
   "id": "e81901c8-629d-4785-a191-ed40e42a30cf",
   "metadata": {},
   "outputs": [],
   "source": []
  },
  {
   "cell_type": "code",
   "execution_count": null,
   "id": "44531b9d-b506-4ec7-b047-dffeb2e3e495",
   "metadata": {},
   "outputs": [],
   "source": []
  },
  {
   "cell_type": "code",
   "execution_count": null,
   "id": "c9a74ab6-5a1e-4364-a91d-96ba2e17a6fa",
   "metadata": {},
   "outputs": [],
   "source": []
  },
  {
   "cell_type": "code",
   "execution_count": null,
   "id": "2ae5abfd-85e1-489b-95e2-fb50730d90f9",
   "metadata": {},
   "outputs": [],
   "source": []
  },
  {
   "cell_type": "code",
   "execution_count": null,
   "id": "d52ba989-82c1-48de-920f-e8495ca2d944",
   "metadata": {},
   "outputs": [],
   "source": [
    "X = gdf.drop(columns = ['area_m2', 'geometry'])"
   ]
  },
  {
   "cell_type": "code",
   "execution_count": null,
   "id": "517acb17-0848-4580-b4df-71b1f63ef4b1",
   "metadata": {},
   "outputs": [],
   "source": [
    "Z = StandardScaler().fit_transform(X)"
   ]
  },
  {
   "cell_type": "code",
   "execution_count": null,
   "id": "2315f4f0-fb88-49c8-96ae-d94218f62590",
   "metadata": {},
   "outputs": [],
   "source": [
    "sns.pairplot(\n",
    "    pd.DataFrame(Z)\n",
    ")"
   ]
  },
  {
   "cell_type": "markdown",
   "id": "80b4ca78-eb10-4a1a-914d-d9423ec45196",
   "metadata": {},
   "source": [
    "### PCA biplot"
   ]
  },
  {
   "cell_type": "code",
   "execution_count": null,
   "id": "fc18ca29-80c8-4aa0-8caf-9a32330cd260",
   "metadata": {},
   "outputs": [],
   "source": [
    "from sklearn.decomposition import PCA\n",
    "\n",
    "pca = PCA(n_components=2)\n",
    "pcs = pca.fit_transform(Z_df)\n",
    "\n",
    "pc_df = pd.DataFrame(pcs, columns=[\"PC1\",\"PC2\"], index=gdf.index)\n",
    "\n",
    "# Biplot\n",
    "plt.figure(figsize=(8,6))\n",
    "sns.scatterplot(x=\"PC1\", y=\"PC2\", data=pc_df, s=30, alpha=0.6)\n",
    "\n",
    "# add loadings as arrows\n",
    "loadings = pca.components_.T * np.sqrt(pca.explained_variance_)\n",
    "for i, col in enumerate(Z_df.columns):\n",
    "    plt.arrow(0, 0, loadings[i,0], loadings[i,1], \n",
    "              color=\"red\", alpha=0.5, head_width=0.05)\n",
    "    plt.text(loadings[i,0]*1.1, loadings[i,1]*1.1, col, color=\"red\")\n",
    "\n",
    "plt.axhline(0, color=\"grey\", lw=1)\n",
    "plt.axvline(0, color=\"grey\", lw=1)\n",
    "plt.title(f\"PCA biplot (PC1 {pca.explained_variance_ratio_[0]:.2%}, \"\n",
    "          f\"PC2 {pca.explained_variance_ratio_[1]:.2%})\")\n",
    "plt.show()"
   ]
  },
  {
   "cell_type": "markdown",
   "id": "848fb8ac-e5f9-4dd7-92d1-e0fd1b07a85a",
   "metadata": {},
   "source": [
    "### Cluster"
   ]
  },
  {
   "cell_type": "code",
   "execution_count": null,
   "id": "f59f0cf2-8c7b-41f4-b07d-63777fada664",
   "metadata": {},
   "outputs": [],
   "source": [
    "Z_df[['perimeter', 'pp','shape_idx','log10_area_m2']]"
   ]
  },
  {
   "cell_type": "code",
   "execution_count": null,
   "id": "0fc785bd-7f56-4e1c-ad2d-82721fbbe7df",
   "metadata": {},
   "outputs": [],
   "source": [
    "Z_df_sel = Z_df[['perimeter', 'rect', 'pp','shape_idx','log10_area_m2']]"
   ]
  },
  {
   "cell_type": "code",
   "execution_count": null,
   "id": "c39ce230-0710-4c7e-85ef-2316a23b99b2",
   "metadata": {},
   "outputs": [],
   "source": [
    "dbscan_clustering = DBSCAN(eps=0.3, min_samples=7).fit(Z_df_sel)"
   ]
  },
  {
   "cell_type": "code",
   "execution_count": null,
   "id": "edc7600f-b8e4-4f22-adcc-c837ace1e470",
   "metadata": {},
   "outputs": [],
   "source": [
    "hdbscan_clustering = HDBSCAN().fit(Z_df_sel)"
   ]
  },
  {
   "cell_type": "code",
   "execution_count": null,
   "id": "d53b4509-02f0-483f-943a-15787b015507",
   "metadata": {},
   "outputs": [],
   "source": [
    "fig = px.scatter_3d(\n",
    "    Z_df_sel,\n",
    "    x='perimeter',\n",
    "    y='pp',\n",
    "    z='shape_idx',\n",
    "    opacity=0.5,            # <== Makes points 50% transparent\n",
    "    size_max=0.1, # <== Caps point size if `size=` is used\n",
    "    color = hdbscan_clustering.labels_,\n",
    "    color_discrete_sequence=['green']  # optional\n",
    ")\n",
    "\n",
    "# Manually adjust marker size and transparency if not using 'size='\n",
    "fig.update_traces(marker=dict(size=3, opacity=0.5))\n",
    "\n",
    "fig.show()"
   ]
  },
  {
   "cell_type": "code",
   "execution_count": null,
   "id": "758bbbb5-e125-4817-8fbc-dba8921f3d3a",
   "metadata": {},
   "outputs": [],
   "source": [
    "blocks.shape"
   ]
  },
  {
   "cell_type": "code",
   "execution_count": null,
   "id": "ed23e543-3824-4b51-aa2e-551f92ce2fa2",
   "metadata": {},
   "outputs": [],
   "source": [
    "clustering.labels_"
   ]
  },
  {
   "cell_type": "code",
   "execution_count": null,
   "id": "110249d7-ab49-44fe-8ddc-c9e930ccefcc",
   "metadata": {},
   "outputs": [],
   "source": [
    "len( clustering.labels_ )"
   ]
  },
  {
   "cell_type": "code",
   "execution_count": null,
   "id": "5d70a888-c86e-4f47-a467-7b102ec7ac2b",
   "metadata": {},
   "outputs": [],
   "source": [
    "gdf.plot(\n",
    "    figsize=(10,10),\n",
    "    column=hdbscan_clustering.labels_,\n",
    "    cmap='rainbow',\n",
    "    legend=True\n",
    ")"
   ]
  },
  {
   "cell_type": "code",
   "execution_count": null,
   "id": "af6a686f-f616-49af-94e7-b300083cf62c",
   "metadata": {},
   "outputs": [],
   "source": []
  },
  {
   "cell_type": "code",
   "execution_count": null,
   "id": "a7c8ede1-7c14-4c12-b286-a69727d28026",
   "metadata": {},
   "outputs": [],
   "source": []
  }
 ],
 "metadata": {
  "kernelspec": {
   "display_name": "Python 3 (ipykernel)",
   "language": "python",
   "name": "python3"
  },
  "language_info": {
   "codemirror_mode": {
    "name": "ipython",
    "version": 3
   },
   "file_extension": ".py",
   "mimetype": "text/x-python",
   "name": "python",
   "nbconvert_exporter": "python",
   "pygments_lexer": "ipython3",
   "version": "3.11.6"
  }
 },
 "nbformat": 4,
 "nbformat_minor": 5
}
