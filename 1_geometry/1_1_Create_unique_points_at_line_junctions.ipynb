{
 "cells": [
  {
   "cell_type": "markdown",
   "id": "5be3458c-2653-43e8-919e-cc64b69be3d3",
   "metadata": {},
   "source": [
    "# 1.1 Create unique points at junctions\n",
    "\n",
    "***GeoPackages only allow a single geometry column in a table***"
   ]
  },
  {
   "cell_type": "markdown",
   "id": "f969b0a7-5d46-4aa2-a7bf-30553e0a7ddf",
   "metadata": {},
   "source": [
    "## 0. Libraries and settings"
   ]
  },
  {
   "cell_type": "code",
   "execution_count": null,
   "id": "ae5ded0a-1d2e-42e0-ba84-b11b3d4ef616",
   "metadata": {},
   "outputs": [],
   "source": [
    "# Libraries\n",
    "from datetime import datetime\n",
    "import geopandas as gpd\n",
    "import pandas as pd\n",
    "import shapely\n",
    "\n",
    "#Settings\n",
    "gpd.options.io_engine = \"pyogrio\"\n",
    "\n",
    "print(\"Last run:\", datetime.now())\n",
    "print(\"GeoPandas version:\", gpd.__version__)\n",
    "print(\"Pandas version:\", pd.__version__)\n",
    "print(\"Shapely version:\", shapely.__version__)"
   ]
  },
  {
   "cell_type": "code",
   "execution_count": null,
   "id": "caedd2e8-cbb1-400f-8894-95cbc90790cf",
   "metadata": {},
   "outputs": [],
   "source": [
    "lines_in = '../0_data/intermediate/4_lines.gpkg'\n",
    "points_out = '../0_data/intermediate/4_lines_points.gpkg'"
   ]
  },
  {
   "cell_type": "markdown",
   "id": "7459c23b-cf90-4e0b-a57b-727b1ff2e715",
   "metadata": {},
   "source": [
    "## 1. Read in data"
   ]
  },
  {
   "cell_type": "markdown",
   "id": "6188113a-c87e-4825-b363-b523781b318f",
   "metadata": {},
   "source": [
    "### 1.1 lines"
   ]
  },
  {
   "cell_type": "code",
   "execution_count": null,
   "id": "bef3e353-06d0-4049-a559-0ae52fb7f458",
   "metadata": {},
   "outputs": [],
   "source": [
    "lines = gpd.read_file( lines_in )"
   ]
  },
  {
   "cell_type": "code",
   "execution_count": null,
   "id": "c1bd0784-a900-4c83-a3aa-9dbe4f896bd7",
   "metadata": {},
   "outputs": [],
   "source": [
    "lines.plot()\n",
    "lines"
   ]
  },
  {
   "cell_type": "markdown",
   "id": "9ae43b39-f338-4edd-a685-24986a4be0f5",
   "metadata": {},
   "source": [
    "## 2. Extract both start and end points "
   ]
  },
  {
   "cell_type": "code",
   "execution_count": null,
   "id": "af52fd19-b877-40bb-ae93-f9e2c3b5ce0b",
   "metadata": {},
   "outputs": [],
   "source": [
    "start_points = shapely.get_point(lines.geometry,0)"
   ]
  },
  {
   "cell_type": "code",
   "execution_count": null,
   "id": "add805d3-6d18-4fcf-ba0b-8184d2ad71e4",
   "metadata": {},
   "outputs": [],
   "source": [
    "end_points = shapely.get_point(lines.geometry,-1)"
   ]
  },
  {
   "cell_type": "code",
   "execution_count": null,
   "id": "78ed4941-dbb9-4146-9703-328cbc02ad98",
   "metadata": {},
   "outputs": [],
   "source": [
    "all_points = pd.concat([start_points, end_points])"
   ]
  },
  {
   "cell_type": "code",
   "execution_count": null,
   "id": "df920ec2-9d7e-4376-9b72-bc3d3aa5af9a",
   "metadata": {},
   "outputs": [],
   "source": [
    "all_points"
   ]
  },
  {
   "cell_type": "markdown",
   "id": "fa00bf20-1307-48e1-bad6-be9a02765700",
   "metadata": {},
   "source": [
    "## 3. Find unique points"
   ]
  },
  {
   "cell_type": "code",
   "execution_count": null,
   "id": "c7e47925-87f4-4a61-98d9-894162a4d32f",
   "metadata": {},
   "outputs": [],
   "source": [
    "unique_points = all_points.drop_duplicates()\n",
    "unique_points = unique_points.reset_index(drop=True) # Ensure ids are unique\n",
    "unique_points"
   ]
  },
  {
   "cell_type": "markdown",
   "id": "a3f6133a-603c-4146-b08b-0f85fbfcb586",
   "metadata": {},
   "source": [
    "## 4. Convert to GeoDataFrame"
   ]
  },
  {
   "cell_type": "code",
   "execution_count": null,
   "id": "cdddc8f9-588d-4564-8553-fdf6949bca57",
   "metadata": {},
   "outputs": [],
   "source": [
    "points = gpd.GeoDataFrame(geometry=unique_points, crs=lines.crs)"
   ]
  },
  {
   "cell_type": "code",
   "execution_count": null,
   "id": "1ff94065-e56e-4a4e-b45b-b904210a1159",
   "metadata": {},
   "outputs": [],
   "source": [
    "points = points.reset_index(names='point_id')\n",
    "points['point_id'] = 'p' + points['point_id'].astype('str')\n",
    "points"
   ]
  },
  {
   "cell_type": "code",
   "execution_count": null,
   "id": "485373a1-84ec-4c6e-ab88-18d6be146a08",
   "metadata": {},
   "outputs": [],
   "source": [
    "ax = lines.plot(color='lightgrey', zorder=-1)\n",
    "points.plot(ax=ax, color='red', zorder=0)\n",
    "\n",
    "# labels\n",
    "for x, y, label in zip(points.geometry.x, points.geometry.y, points['point_id']):\n",
    "    ax.annotate(label, xy=(x, y), xytext=(3, 3), textcoords=\"offset points\")\n",
    "for x, y, label in zip(lines.geometry.centroid.x, lines.geometry.centroid.y, lines['line_id']):\n",
    "    ax.annotate(label, xy=(x, y), xytext=(3, 3), textcoords=\"offset points\")"
   ]
  },
  {
   "cell_type": "markdown",
   "id": "55a1fc74-12d7-47d1-a7d6-343e4d12070e",
   "metadata": {},
   "source": [
    "### Check point and line ids are unique"
   ]
  },
  {
   "cell_type": "code",
   "execution_count": null,
   "id": "5e97a981-40a0-494f-9848-237ffcf199c5",
   "metadata": {},
   "outputs": [],
   "source": [
    "lines['line_id'].is_unique"
   ]
  },
  {
   "cell_type": "code",
   "execution_count": null,
   "id": "07c3efed-0f92-4173-b853-20b952fdce2c",
   "metadata": {},
   "outputs": [],
   "source": [
    "points['point_id'].is_unique"
   ]
  },
  {
   "cell_type": "markdown",
   "id": "9a536613-f87d-48fc-a7f6-579c73edadcb",
   "metadata": {},
   "source": [
    "## 4. Save Points\n",
    "\n",
    "***Note: Lines are unchanged***"
   ]
  },
  {
   "cell_type": "code",
   "execution_count": null,
   "id": "2efb9c77-532c-4425-bba2-af359c6dd5ca",
   "metadata": {},
   "outputs": [],
   "source": [
    "points.to_file( points_out )"
   ]
  },
  {
   "cell_type": "code",
   "execution_count": null,
   "id": "f8fe0774-f60c-4300-9eb2-905e2a8f2aa0",
   "metadata": {},
   "outputs": [],
   "source": []
  }
 ],
 "metadata": {
  "kernelspec": {
   "display_name": "Python 3 (ipykernel)",
   "language": "python",
   "name": "python3"
  },
  "language_info": {
   "codemirror_mode": {
    "name": "ipython",
    "version": 3
   },
   "file_extension": ".py",
   "mimetype": "text/x-python",
   "name": "python",
   "nbconvert_exporter": "python",
   "pygments_lexer": "ipython3",
   "version": "3.13.7"
  }
 },
 "nbformat": 4,
 "nbformat_minor": 5
}
