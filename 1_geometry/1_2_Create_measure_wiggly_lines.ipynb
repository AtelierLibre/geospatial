{
 "cells": [
  {
   "cell_type": "markdown",
   "id": "cb0503d3-259f-45e8-80a5-abbfac987a6a",
   "metadata": {},
   "source": [
    "# 1.0 Create & measure wiggly lines"
   ]
  },
  {
   "cell_type": "code",
   "execution_count": null,
   "id": "82eb044d-6b21-4433-8786-fd6c9599cbac",
   "metadata": {},
   "outputs": [],
   "source": [
    "import geopandas as gpd\n",
    "import numpy as np\n",
    "import pandas as pd\n",
    "\n",
    "from shapely import LineString"
   ]
  },
  {
   "cell_type": "code",
   "execution_count": null,
   "id": "3b82ef8f-479e-45a0-a678-b2ffa938b1a2",
   "metadata": {},
   "outputs": [],
   "source": [
    "from geometry_functions import create_wiggly_line\n",
    "from geometry_functions import total_bearing_change_planar"
   ]
  },
  {
   "cell_type": "markdown",
   "id": "8c130deb-7a61-4285-8180-4b30e951db21",
   "metadata": {},
   "source": [
    "## Measure bearing change"
   ]
  },
  {
   "cell_type": "code",
   "execution_count": null,
   "id": "d968b7c6-7c3f-44ed-9299-a697636a1edc",
   "metadata": {},
   "outputs": [],
   "source": [
    "geometry = [\n",
    "    create_wiggly_line((0,0), (100,50), n=10, amp=5),\n",
    "    create_wiggly_line((0,0), (200,0), n=10, amp=5),\n",
    "    create_wiggly_line((200,0), (300,600), n=10, amp=5),\n",
    "    create_wiggly_line((0,0), (300,600), n=10, amp=5),\n",
    "    create_wiggly_line((0,600), (300,600), n=20, amp=30),\n",
    "    create_wiggly_line((0,600), (300,600), n=40, amp=30),\n",
    "    LineString([(0,700), (400,700), (400,1000)]),\n",
    "    LineString([(50,750), (350,750), (200,1000)])\n",
    "]\n",
    "\n",
    "gdf = gpd.GeoDataFrame(geometry=geometry)\n",
    "\n",
    "gdf.plot()"
   ]
  },
  {
   "cell_type": "code",
   "execution_count": null,
   "id": "cf753f28-722e-42e0-9489-c471e42e66fa",
   "metadata": {},
   "outputs": [],
   "source": [
    "gdf['tbc'] = total_bearing_change_planar(gdf)"
   ]
  },
  {
   "cell_type": "code",
   "execution_count": null,
   "id": "0a1ba0e4-2aaf-4f85-bdfa-499a2cc9643d",
   "metadata": {},
   "outputs": [],
   "source": [
    "gdf"
   ]
  },
  {
   "cell_type": "code",
   "execution_count": null,
   "id": "80be20fb-a3f5-4645-8c6e-55ccaf76318c",
   "metadata": {},
   "outputs": [],
   "source": []
  }
 ],
 "metadata": {
  "kernelspec": {
   "display_name": "Python 3 (ipykernel)",
   "language": "python",
   "name": "python3"
  },
  "language_info": {
   "codemirror_mode": {
    "name": "ipython",
    "version": 3
   },
   "file_extension": ".py",
   "mimetype": "text/x-python",
   "name": "python",
   "nbconvert_exporter": "python",
   "pygments_lexer": "ipython3",
   "version": "3.13.7"
  }
 },
 "nbformat": 4,
 "nbformat_minor": 5
}
