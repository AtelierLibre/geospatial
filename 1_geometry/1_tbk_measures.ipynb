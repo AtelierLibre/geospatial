{
 "cells": [
  {
   "cell_type": "code",
   "execution_count": null,
   "id": "c078730e-6657-4d74-8563-98eb48bbd99b",
   "metadata": {},
   "outputs": [],
   "source": [
    "import numpy as np\n",
    "import geopandas as gpd\n",
    "from shapely.geometry import Polygon"
   ]
  },
  {
   "cell_type": "code",
   "execution_count": null,
   "id": "83633a96-35df-44a2-b839-d89e81938538",
   "metadata": {},
   "outputs": [],
   "source": [
    "gdf = gpd.read_file('tabuk-blocks-proj_sel_A.gpkg')\n",
    "gdf.crs"
   ]
  },
  {
   "cell_type": "code",
   "execution_count": null,
   "id": "64f3746e-06f9-4b5c-916c-bdf490531f8a",
   "metadata": {},
   "outputs": [],
   "source": [
    "gdf.plot()"
   ]
  },
  {
   "cell_type": "code",
   "execution_count": null,
   "id": "0a0c8a6d-c6cf-49f9-be2d-dc85e315359a",
   "metadata": {},
   "outputs": [],
   "source": [
    "gdf.head()"
   ]
  },
  {
   "cell_type": "code",
   "execution_count": null,
   "id": "4a601cb7-21d2-480a-a19c-9c021766b4f2",
   "metadata": {},
   "outputs": [],
   "source": [
    "gdf = gdf[['geometry']].copy()"
   ]
  },
  {
   "cell_type": "code",
   "execution_count": null,
   "id": "16b3364c-2924-4e92-884f-4b4a50d2d732",
   "metadata": {},
   "outputs": [],
   "source": [
    "gdf.head()"
   ]
  },
  {
   "cell_type": "code",
   "execution_count": null,
   "id": "37d31349-efc1-4682-8717-43fe7790c013",
   "metadata": {},
   "outputs": [],
   "source": [
    "A = gdf.geometry.area.values\n",
    "P = gdf.geometry.length.values\n",
    "pi = np.pi"
   ]
  },
  {
   "cell_type": "code",
   "execution_count": null,
   "id": "020eb4d4-48d8-44a8-b8c0-057a654ec0cc",
   "metadata": {},
   "outputs": [],
   "source": [
    "# convex hull & min rotated rectangle (Shapely 2.x names)\n",
    "hulls = gdf.geometry.convex_hull\n",
    "mrr   = gdf.geometry.minimum_rotated_rectangle()"
   ]
  },
  {
   "cell_type": "code",
   "execution_count": null,
   "id": "bdafeda8-9f21-4fac-879c-38e9ec7a5b2e",
   "metadata": {},
   "outputs": [],
   "source": [
    "A_hull = hulls.area.values\n",
    "P_hull = hulls.length.values\n",
    "A_mrr  = mrr.area.values"
   ]
  },
  {
   "cell_type": "code",
   "execution_count": null,
   "id": "051e7c9e-29e7-4516-a295-8ddbe3faf0a1",
   "metadata": {},
   "outputs": [],
   "source": [
    "# derive MBR sides to get aspect\n",
    "def mrr_sides(poly: Polygon):\n",
    "    # MRR is a 5-vertex closed ring; get unique 4 edges\n",
    "    xs, ys = poly.exterior.coords.xy\n",
    "    coords = list(zip(xs, ys))[:-1]\n",
    "    edges = [np.hypot(coords[(i+1)%4][0]-coords[i][0],\n",
    "                      coords[(i+1)%4][1]-coords[i][1]) for i in range(4)]\n",
    "    # opposite sides equal; take the two unique lengths\n",
    "    uniq = sorted(set(np.round(edges, 8)))\n",
    "    if len(uniq) == 1:  # square\n",
    "        a, b = uniq[0], uniq[0]\n",
    "    else:\n",
    "        a, b = uniq[-1], uniq[0]\n",
    "    return a, b\n",
    "\n",
    "sides = np.array([mrr_sides(poly) for poly in mrr])\n",
    "long_side = sides.max(axis=1)\n",
    "short_side = sides.min(axis=1)\n",
    "aspect = long_side / np.maximum(short_side, 1e-9)\n",
    "\n",
    "# compactness family\n",
    "pp        = (4*pi*A) / (P**2)                 # Polsby–Popper\n",
    "schwarz   = (2*np.sqrt(pi*A)) / P             # Schwartzberg\n",
    "convexity = A / np.maximum(A_hull, 1e-9)\n",
    "rect      = A / np.maximum(A_mrr, 1e-9)\n",
    "rough     = P / np.maximum(P_hull, 1e-9)\n",
    "shapeidx  = P / (2*np.sqrt(pi*A))\n",
    "\n",
    "gdf[\"area_m2\"]    = A\n",
    "gdf[\"perimeter\"]  = P\n",
    "gdf[\"pp\"]         = pp\n",
    "gdf[\"schwarz\"]    = schwarz\n",
    "gdf[\"convexity\"]  = convexity\n",
    "gdf[\"rect\"]       = rect\n",
    "gdf[\"aspect\"]     = aspect\n",
    "gdf[\"rough\"]      = rough\n",
    "gdf[\"shape_idx\"]  = shapeidx"
   ]
  },
  {
   "cell_type": "code",
   "execution_count": null,
   "id": "9992fbaa-16e2-4d3d-9595-c7e73b0504ee",
   "metadata": {},
   "outputs": [],
   "source": [
    "gdf"
   ]
  },
  {
   "cell_type": "code",
   "execution_count": null,
   "id": "cb463ff0-d794-4edd-89c7-273ae863f001",
   "metadata": {},
   "outputs": [],
   "source": [
    "gdf.describe()"
   ]
  },
  {
   "cell_type": "code",
   "execution_count": null,
   "id": "c285251c-7c2a-48f0-bd39-ffe5eaeb5fbb",
   "metadata": {},
   "outputs": [],
   "source": [
    "gdf.to_file('tabuk_metrics.gpkg')"
   ]
  },
  {
   "cell_type": "code",
   "execution_count": null,
   "id": "11cc58d1-9054-4a56-8434-f5c0a00f146b",
   "metadata": {},
   "outputs": [],
   "source": []
  }
 ],
 "metadata": {
  "kernelspec": {
   "display_name": "Python 3 (ipykernel)",
   "language": "python",
   "name": "python3"
  },
  "language_info": {
   "codemirror_mode": {
    "name": "ipython",
    "version": 3
   },
   "file_extension": ".py",
   "mimetype": "text/x-python",
   "name": "python",
   "nbconvert_exporter": "python",
   "pygments_lexer": "ipython3",
   "version": "3.11.6"
  }
 },
 "nbformat": 4,
 "nbformat_minor": 5
}
