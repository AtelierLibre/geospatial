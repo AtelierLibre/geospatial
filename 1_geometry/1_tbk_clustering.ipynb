{
 "cells": [
  {
   "cell_type": "code",
   "execution_count": null,
   "id": "1b26c817-4794-4483-a920-820faedbef5c",
   "metadata": {},
   "outputs": [],
   "source": [
    "# importing required libraries\n",
    "import geopandas as gpd\n",
    "import matplotlib.pyplot as plt\n",
    "import numpy as np\n",
    "import plotly.express as px\n",
    "import seaborn as sns\n",
    "import sklearn\n",
    "\n",
    "from sklearn.cluster import DBSCAN\n",
    "from sklearn.preprocessing import StandardScaler"
   ]
  },
  {
   "cell_type": "code",
   "execution_count": null,
   "id": "1890498f-b4b7-4234-954a-374d0494863b",
   "metadata": {},
   "outputs": [],
   "source": [
    "mbr = gpd.read_file('tabuk-blocks-proj_sel.gpkg')"
   ]
  },
  {
   "cell_type": "code",
   "execution_count": null,
   "id": "1e4bf168-a9cd-422a-90cb-4c7a55008d17",
   "metadata": {},
   "outputs": [],
   "source": [
    "mbr.head()"
   ]
  },
  {
   "cell_type": "code",
   "execution_count": null,
   "id": "87305081-ea95-48d1-88ce-4ec89531a2dd",
   "metadata": {},
   "outputs": [],
   "source": [
    "blocks = gpd.read_file('tabuk-blocks-proj_sel.gpkg')"
   ]
  },
  {
   "cell_type": "code",
   "execution_count": null,
   "id": "8fcba51e-0abb-4a33-badc-62869a98f690",
   "metadata": {},
   "outputs": [],
   "source": [
    "blocks.head()"
   ]
  },
  {
   "cell_type": "code",
   "execution_count": null,
   "id": "9a67723e-ed24-4721-8d77-6598164bcff3",
   "metadata": {},
   "outputs": [],
   "source": [
    "mbr.shape"
   ]
  },
  {
   "cell_type": "code",
   "execution_count": null,
   "id": "6a99db55-4d47-49df-9478-91042a65579f",
   "metadata": {},
   "outputs": [],
   "source": [
    "blocks.shape"
   ]
  },
  {
   "cell_type": "code",
   "execution_count": null,
   "id": "7371253f-e6e2-408c-b3e7-3353a721d8ed",
   "metadata": {},
   "outputs": [],
   "source": [
    "mbr['area_m'].sort_values()"
   ]
  },
  {
   "cell_type": "code",
   "execution_count": null,
   "id": "8d6f6654-1d55-41ff-8d38-5a2dd15bd975",
   "metadata": {},
   "outputs": [],
   "source": [
    "sns.pairplot(\n",
    "    mbr.loc[mbr['area_m']<100000,['area_m','perimeter_m','aspect']]\n",
    ")"
   ]
  },
  {
   "cell_type": "code",
   "execution_count": null,
   "id": "0e232c5f-0c1a-4e6d-9770-7ef1c13ba51b",
   "metadata": {},
   "outputs": [],
   "source": [
    "import numpy as np"
   ]
  },
  {
   "cell_type": "code",
   "execution_count": null,
   "id": "af28348c-f5cb-4318-b6aa-e27ba0a22d7d",
   "metadata": {},
   "outputs": [],
   "source": [
    "mbr['log10_area_m2'] = np.log10(mbr['area_m'])\n",
    "mbr['log10_perimeter_m'] = np.log10(mbr['perimeter_m'])\n",
    "mbr['log10_aspect'] = np.log10(mbr['aspect'])"
   ]
  },
  {
   "cell_type": "code",
   "execution_count": null,
   "id": "fb7ab88c-badf-44f2-bd0b-79a59ea35a2a",
   "metadata": {},
   "outputs": [],
   "source": [
    "sns.pairplot(\n",
    "    mbr.loc[mbr['area_m']<100000,\n",
    "    ['log10_area_m2','log10_perimeter_m','log10_aspect']],\n",
    "    #plot_kws={'alpha': 0.3}\n",
    ")"
   ]
  },
  {
   "cell_type": "code",
   "execution_count": null,
   "id": "f64af3c9-d668-47bb-b7d0-8f44325256a3",
   "metadata": {},
   "outputs": [],
   "source": [
    "sns.pairplot(\n",
    "    mbr.loc[mbr['area_m']<100000,\n",
    "    ['log10_area_m2','log10_perimeter_m','log10_aspect']],\n",
    "    plot_kws={\n",
    "        'alpha': 0.3,\n",
    "        's':3\n",
    "    }\n",
    ")"
   ]
  },
  {
   "cell_type": "markdown",
   "id": "9bbecb42-8518-483a-8e4c-b059960a81ea",
   "metadata": {},
   "source": [
    "### Standardise"
   ]
  },
  {
   "cell_type": "code",
   "execution_count": null,
   "id": "517acb17-0848-4580-b4df-71b1f63ef4b1",
   "metadata": {},
   "outputs": [],
   "source": [
    "Z = StandardScaler().fit_transform(mbr[['log10_area_m2','log10_perimeter_m','log10_aspect']].values)"
   ]
  },
  {
   "cell_type": "markdown",
   "id": "848fb8ac-e5f9-4dd7-92d1-e0fd1b07a85a",
   "metadata": {},
   "source": [
    "### Cluster"
   ]
  },
  {
   "cell_type": "code",
   "execution_count": null,
   "id": "c39ce230-0710-4c7e-85ef-2316a23b99b2",
   "metadata": {},
   "outputs": [],
   "source": [
    "clustering = DBSCAN(eps=0.3, min_samples=7).fit(Z)"
   ]
  },
  {
   "cell_type": "code",
   "execution_count": null,
   "id": "d53b4509-02f0-483f-943a-15787b015507",
   "metadata": {},
   "outputs": [],
   "source": [
    "fig = px.scatter_3d(\n",
    "    mbr,\n",
    "    x='log10_area_m2',\n",
    "    y='log10_perimeter_m',\n",
    "    z='log10_aspect',\n",
    "    opacity=0.5,            # <== Makes points 50% transparent\n",
    "    size_max=0.1, # <== Caps point size if `size=` is used\n",
    "    color = clustering.labels_,\n",
    "    color_discrete_sequence=['green']  # optional\n",
    ")\n",
    "\n",
    "# Manually adjust marker size and transparency if not using 'size='\n",
    "fig.update_traces(marker=dict(size=3, opacity=0.5))\n",
    "\n",
    "fig.update_layout(\n",
    "    scene=dict(\n",
    "        xaxis_title='log10_area_m2',\n",
    "        yaxis_title='log10_perimeter_m',\n",
    "        zaxis_title='log10_aspect'\n",
    "    )\n",
    ")\n",
    "\n",
    "fig.show()"
   ]
  },
  {
   "cell_type": "code",
   "execution_count": null,
   "id": "758bbbb5-e125-4817-8fbc-dba8921f3d3a",
   "metadata": {},
   "outputs": [],
   "source": [
    "blocks.shape"
   ]
  },
  {
   "cell_type": "code",
   "execution_count": null,
   "id": "ed23e543-3824-4b51-aa2e-551f92ce2fa2",
   "metadata": {},
   "outputs": [],
   "source": [
    "clustering.labels_"
   ]
  },
  {
   "cell_type": "code",
   "execution_count": null,
   "id": "110249d7-ab49-44fe-8ddc-c9e930ccefcc",
   "metadata": {},
   "outputs": [],
   "source": [
    "len( clustering.labels_ )"
   ]
  },
  {
   "cell_type": "code",
   "execution_count": null,
   "id": "5d70a888-c86e-4f47-a467-7b102ec7ac2b",
   "metadata": {},
   "outputs": [],
   "source": [
    "blocks.plot(\n",
    "    figsize=(10,10),\n",
    "    column=clustering.labels_,\n",
    "    cmap='rainbow',\n",
    "    legend=True\n",
    ")"
   ]
  },
  {
   "cell_type": "code",
   "execution_count": null,
   "id": "af6a686f-f616-49af-94e7-b300083cf62c",
   "metadata": {},
   "outputs": [],
   "source": []
  },
  {
   "cell_type": "code",
   "execution_count": null,
   "id": "a7c8ede1-7c14-4c12-b286-a69727d28026",
   "metadata": {},
   "outputs": [],
   "source": []
  }
 ],
 "metadata": {
  "kernelspec": {
   "display_name": "Python 3 (ipykernel)",
   "language": "python",
   "name": "python3"
  },
  "language_info": {
   "codemirror_mode": {
    "name": "ipython",
    "version": 3
   },
   "file_extension": ".py",
   "mimetype": "text/x-python",
   "name": "python",
   "nbconvert_exporter": "python",
   "pygments_lexer": "ipython3",
   "version": "3.11.6"
  }
 },
 "nbformat": 4,
 "nbformat_minor": 5
}
