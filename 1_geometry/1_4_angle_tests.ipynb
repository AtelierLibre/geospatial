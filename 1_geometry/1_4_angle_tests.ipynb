{
 "cells": [
  {
   "cell_type": "code",
   "execution_count": null,
   "id": "32add8c4-6bea-4092-a168-24c43a5e19d0",
   "metadata": {},
   "outputs": [],
   "source": [
    "%load_ext autoreload\n",
    "%autoreload 2\n",
    "\n",
    "import geopandas as gpd\n",
    "import line_geom_graph as lgg"
   ]
  },
  {
   "cell_type": "code",
   "execution_count": null,
   "id": "e419a0c3-5a3e-4fb4-a8d4-31f53f301df8",
   "metadata": {},
   "outputs": [],
   "source": [
    "streets = gpd.read_file('data_intermediate/edge_bearings.gpkg')"
   ]
  },
  {
   "cell_type": "code",
   "execution_count": null,
   "id": "2fc192aa-40ba-4706-9563-36836dc9ba39",
   "metadata": {},
   "outputs": [],
   "source": [
    "streets_prj = streets.to_crs(9498)"
   ]
  },
  {
   "cell_type": "code",
   "execution_count": null,
   "id": "09368031-a975-4382-8f0f-5bd771780990",
   "metadata": {},
   "outputs": [],
   "source": [
    "lgg.validate_lines_gdf(streets_prj)"
   ]
  },
  {
   "cell_type": "code",
   "execution_count": null,
   "id": "5da00bdf-997a-4745-b245-68415f534de8",
   "metadata": {},
   "outputs": [],
   "source": [
    "gdf = streets_prj[['geometry']].copy()"
   ]
  },
  {
   "cell_type": "code",
   "execution_count": null,
   "id": "1417c874-1687-4d3b-802d-d97b0f91c605",
   "metadata": {},
   "outputs": [],
   "source": [
    "import shapely"
   ]
  },
  {
   "cell_type": "code",
   "execution_count": null,
   "id": "7c6a5bd0-a969-4ace-82ef-4f131ce68eb7",
   "metadata": {},
   "outputs": [],
   "source": [
    "shapely.get_coords( gdf.geometry.values )"
   ]
  },
  {
   "cell_type": "code",
   "execution_count": null,
   "id": "113478ae-5ad6-42d4-b61a-ac61846d2119",
   "metadata": {},
   "outputs": [],
   "source": [
    "A0 = shapely.get_point(gdf.geometry.values, 0)"
   ]
  },
  {
   "cell_type": "code",
   "execution_count": null,
   "id": "6a43f11e-a6b3-4c44-a37b-7e0ba330f98e",
   "metadata": {},
   "outputs": [],
   "source": [
    "A1 = shapely.get_point(gdf.geometry.values, 1)"
   ]
  },
  {
   "cell_type": "code",
   "execution_count": null,
   "id": "74136b63-f802-4d53-94c1-30e0133a4c9e",
   "metadata": {},
   "outputs": [],
   "source": []
  },
  {
   "cell_type": "code",
   "execution_count": null,
   "id": "23382e62-c14a-4602-b61f-9fbe639becd6",
   "metadata": {},
   "outputs": [],
   "source": [
    "import numpy as np"
   ]
  },
  {
   "cell_type": "code",
   "execution_count": null,
   "id": "be0ebb79-2d52-4519-adf6-defbf7838a7f",
   "metadata": {},
   "outputs": [],
   "source": []
  },
  {
   "cell_type": "code",
   "execution_count": null,
   "id": "43b665ee-773a-425c-8980-b78ba0197953",
   "metadata": {},
   "outputs": [],
   "source": [
    "bearings_planar"
   ]
  },
  {
   "cell_type": "code",
   "execution_count": null,
   "id": "9db08456-cbcb-4b6b-91c3-0d300c44e7ae",
   "metadata": {},
   "outputs": [],
   "source": [
    "def bearings_planar(points_a, points_b):\n",
    "    # points_a, points_b: array-like of Shapely Points (same length)\n",
    "    A = shapely.get_coordinates(points_a)   # shape (N, 2) -> [x, y]\n",
    "    B = shapely.get_coordinates(points_b)\n",
    "    dx = B[:, 0] - A[:, 0]\n",
    "    dy = B[:, 1] - A[:, 1]\n",
    "    # bearing: 0° = North, 90° = East\n",
    "    brg = (np.degrees(np.arctan2(dx, dy)) + 360.0) % 360.0\n",
    "    # optional: set NaN where points coincide\n",
    "    brg[(dx == 0) & (dy == 0)] = np.nan\n",
    "    return brg\n",
    "\n",
    "def half_edges( gdf ):\n",
    "\n",
    "    he_gdfs = []\n",
    "\n",
    "    for he in ['a','b']:\n",
    "        if he == 'a':\n",
    "            p0 = shapely.get_point(gdf.geometry.values, 0)\n",
    "            p1 = shapely.get_point(gdf.geometry.values, 1)\n",
    "        elif he == 'b':\n",
    "            p0 = shapely.get_point(gdf.geometry.values, -1)\n",
    "            p1 = shapely.get_point(gdf.geometry.values, -2)\n",
    "            \n",
    "        he_gdf = gpd.GeoDataFrame(\n",
    "            data = pd.DataFrame({'bearing':bearings_planar(p0, p1)}),\n",
    "            geometry = p0\n",
    "        )\n",
    "\n",
    "        he_gdf['id'] = gdf.index\n",
    "        he_gdf['he'] = he\n",
    "        he_gdf['he_id'] = he_gdf['id'].astype(str) + he_gdf['he']\n",
    "\n",
    "        he_gdfs.append( he_gdf )\n",
    "\n",
    "    return pd.concat( he_gdfs )"
   ]
  },
  {
   "cell_type": "code",
   "execution_count": null,
   "id": "ccaa14b4-9981-453d-8397-a76da5cc5549",
   "metadata": {},
   "outputs": [],
   "source": [
    "he_gdf = half_edges( gdf )\n",
    "he_gdf"
   ]
  },
  {
   "cell_type": "code",
   "execution_count": null,
   "id": "4758fafe-9593-432b-bd70-749cd2e0ceaa",
   "metadata": {},
   "outputs": [],
   "source": [
    "he_self_join = he_gdf[['id','he_id','bearing','geometry']].sjoin(\n",
    "    he_gdf[['id','he_id','bearing','geometry']]\n",
    ").drop(columns='index_right')"
   ]
  },
  {
   "cell_type": "code",
   "execution_count": null,
   "id": "58766d7e-1472-485b-91ec-9bd7350d2a48",
   "metadata": {},
   "outputs": [],
   "source": [
    "he_self_join"
   ]
  },
  {
   "cell_type": "code",
   "execution_count": null,
   "id": "23a70df5-bcd3-412a-9ae9-11fb17061124",
   "metadata": {},
   "outputs": [],
   "source": [
    "# remove self-joins\n",
    "he_join = he_self_join[ he_self_join['he_id_left'] != he_self_join['he_id_right'] ].copy()"
   ]
  },
  {
   "cell_type": "code",
   "execution_count": null,
   "id": "4c93c6bd-f407-4d2b-af2d-6e6b31c918d8",
   "metadata": {},
   "outputs": [],
   "source": [
    "he_graph = he_join[ he_join['he_id_left'] < he_join['he_id_right'] ].copy()\n",
    "he_graph"
   ]
  },
  {
   "cell_type": "code",
   "execution_count": null,
   "id": "010d27ea-9b36-452c-9106-391b4819126e",
   "metadata": {},
   "outputs": [],
   "source": [
    "def bearing_change_from_opposite(a, b, mode=\"abs\"):\n",
    "    \"\"\"\n",
    "    a, b: bearings in degrees (arrays or scalars).\n",
    "    Reverse 'a' then compute change from a_rev to b.\n",
    "\n",
    "    mode:\n",
    "      - \"signed\" -> minimal signed change in [-180, 180)\n",
    "      - \"abs\"    -> magnitude of minimal change in [0, 180]\n",
    "      - \"cw\"     -> clockwise change in [0, 360)\n",
    "      - \"ccw\"    -> counter-clockwise change in [0, 360)\n",
    "    \"\"\"\n",
    "    a = np.asarray(a, dtype=float)\n",
    "    b = np.asarray(b, dtype=float)\n",
    "    a_rev = (a + 180.0) % 360.0\n",
    "\n",
    "    if mode == \"signed\":\n",
    "        return ((b - a_rev + 540.0) % 360.0) - 180.0\n",
    "    elif mode == \"abs\":\n",
    "        return np.abs(((b - a_rev + 540.0) % 360.0) - 180.0)\n",
    "    elif mode == \"cw\":\n",
    "        return (b - a_rev) % 360.0\n",
    "    elif mode == \"ccw\":\n",
    "        return (a_rev - b) % 360.0\n",
    "    else:\n",
    "        raise ValueError(\"mode must be one of: 'signed', 'abs', 'cw', 'ccw'\")"
   ]
  },
  {
   "cell_type": "code",
   "execution_count": null,
   "id": "7802a9d9-bc6b-49ed-98d5-05f14b0709c1",
   "metadata": {},
   "outputs": [],
   "source": [
    "he_graph['bc'] = bearing_change_from_opposite(he_graph['bearing_left'], he_graph['bearing_right'])"
   ]
  },
  {
   "cell_type": "code",
   "execution_count": null,
   "id": "d1e54c6e-eaf1-4bf2-9d67-f0489e3f179e",
   "metadata": {},
   "outputs": [],
   "source": [
    "he_graph"
   ]
  },
  {
   "cell_type": "markdown",
   "id": "37660d44-c0ec-443a-8650-396c0aa8ed62",
   "metadata": {},
   "source": [
    "### Save graph"
   ]
  },
  {
   "cell_type": "code",
   "execution_count": null,
   "id": "14e2dd4f-172f-41c3-bf6e-6ab0266e8766",
   "metadata": {},
   "outputs": [],
   "source": [
    "he_graph[['id_left','id_right','bc']]"
   ]
  },
  {
   "cell_type": "code",
   "execution_count": null,
   "id": "f2358683-2d9c-4b34-a93b-f30226b44cad",
   "metadata": {},
   "outputs": [],
   "source": []
  },
  {
   "cell_type": "code",
   "execution_count": null,
   "id": "b69b2047-0a18-4c83-969b-681fba8c3b3b",
   "metadata": {},
   "outputs": [],
   "source": [
    "he_graph['bc'].plot(\n",
    "    kind='hist',\n",
    "    bins=18\n",
    ")"
   ]
  },
  {
   "cell_type": "code",
   "execution_count": null,
   "id": "3f3a73ad-a2cb-4b08-be95-1d4b11a0d511",
   "metadata": {},
   "outputs": [],
   "source": [
    "num_bins = 18\n",
    "\n",
    "# Split bins in half to prevent bin-edge effects around common values.\n",
    "# Bins will be merged in pairs after the histogram is computed. The last\n",
    "# bin edge is the same as the first (i.e., 0 degrees = 360 degrees).\n",
    "num_split_bins = num_bins * 2\n",
    "split_bin_edges = np.linspace(0, 360, num_split_bins + 1)\n",
    "bearings = he_graph['bc']\n",
    "split_bin_counts, split_bin_edges = np.histogram(\n",
    "    bearings,\n",
    "    bins=split_bin_edges,\n",
    ")\n",
    "# Move last bin to front, so eg 0.01 degrees and 359.99 degrees will be\n",
    "# binned together. Then combine counts from pairs of split bins.\n",
    "split_bin_counts = np.roll(split_bin_counts, 1)\n",
    "bin_counts = split_bin_counts[::2] + split_bin_counts[1::2]\n",
    "# Every other edge of the split bins is the center of a merged bin.\n",
    "bin_centers = split_bin_edges[range(0, num_split_bins - 1, 2)]\n",
    "\n",
    "bin_counts, bin_centers"
   ]
  },
  {
   "cell_type": "code",
   "execution_count": null,
   "id": "351c28c8-d8ff-4a1b-bd62-0a511d3f555d",
   "metadata": {},
   "outputs": [],
   "source": [
    "import networkx as nx"
   ]
  },
  {
   "cell_type": "code",
   "execution_count": null,
   "id": "58ccbd32-b2a3-4747-a8a6-b1b11385eb32",
   "metadata": {},
   "outputs": [],
   "source": [
    "MG = nx.MultiGraph()"
   ]
  },
  {
   "cell_type": "code",
   "execution_count": null,
   "id": "d3fdb9e5-9729-4b9d-b475-27eeaa77c579",
   "metadata": {},
   "outputs": [],
   "source": [
    "he_graph.head(2)"
   ]
  },
  {
   "cell_type": "code",
   "execution_count": null,
   "id": "4020df04-b128-48e8-b96d-1fb2bfe2b258",
   "metadata": {},
   "outputs": [],
   "source": [
    "MG = nx.from_pandas_edgelist(\n",
    "    he_graph,\n",
    "    source='he_id_left',\n",
    "    target='he_id_right',\n",
    "    edge_attr='bc',\n",
    "    create_using=nx.MultiGraph()\n",
    ")"
   ]
  },
  {
   "cell_type": "code",
   "execution_count": null,
   "id": "e577436a-1a92-4b4a-a7f3-b9650344b076",
   "metadata": {},
   "outputs": [],
   "source": [
    "import osmnx as ox"
   ]
  },
  {
   "cell_type": "code",
   "execution_count": null,
   "id": "de769b56-e99f-4f12-9efc-f1763ca34778",
   "metadata": {},
   "outputs": [],
   "source": [
    "from matplotlib.projections.polar import PolarAxes\n",
    "from typing import Any\n",
    "from typing import overload\n",
    "from typing import Literal\n",
    "from matplotlib.figure import Figure  # noqa: TC002\n",
    "from matplotlib.axes._axes import Axes  # noqa: TC002\n",
    "import matplotlib.pyplot as plt\n",
    "\n",
    "mpl_available = True\n",
    "\n",
    "def _verify_mpl() -> None:\n",
    "    \"\"\"Verify that matplotlib is installed and imported.\"\"\"\n",
    "    if not mpl_available:  # pragma: no cover\n",
    "        msg = \"matplotlib must be installed as an optional dependency for visualization.\"\n",
    "        raise ImportError(msg)\n",
    "\n",
    "# if polar = False, return Axes\n",
    "@overload\n",
    "def _get_fig_ax(\n",
    "    ax: Axes | None,\n",
    "    figsize: tuple[float, float],\n",
    "    bgcolor: str | None,\n",
    "    polar: Literal[False],\n",
    ") -> tuple[Figure, Axes]: ...\n",
    "\n",
    "\n",
    "# if polar = True, return PolarAxes\n",
    "@overload\n",
    "def _get_fig_ax(\n",
    "    ax: Axes | None,\n",
    "    figsize: tuple[float, float],\n",
    "    bgcolor: str | None,\n",
    "    polar: Literal[True],\n",
    ") -> tuple[Figure, PolarAxes]: ...\n",
    "\n",
    "\n",
    "def _get_fig_ax(\n",
    "    ax: Axes | None,\n",
    "    figsize: tuple[float, float],\n",
    "    bgcolor: str | None,\n",
    "    polar: bool,  # noqa: FBT001\n",
    ") -> tuple[Figure, Axes | PolarAxes]:\n",
    "    \"\"\"\n",
    "    Generate a matplotlib Figure and (Polar)Axes or return existing ones.\n",
    "\n",
    "    Parameters\n",
    "    ----------\n",
    "    ax\n",
    "        If not None, plot on this pre-existing axes instance.\n",
    "    figsize\n",
    "        If `ax` is None, create new figure with size `(width, height)`.\n",
    "    bgcolor\n",
    "        Background color of figure.\n",
    "    polar\n",
    "        If True, generate a `PolarAxes` instead of an `Axes` instance.\n",
    "\n",
    "    Returns\n",
    "    -------\n",
    "    fig, ax\n",
    "        The resulting matplotlib figure and axes objects.\n",
    "    \"\"\"\n",
    "    if ax is None:\n",
    "        if polar:\n",
    "            # make PolarAxes\n",
    "            fig, ax = plt.subplots(figsize=figsize, subplot_kw={\"projection\": \"polar\"})\n",
    "        else:\n",
    "            # make regular Axes\n",
    "            fig, ax = plt.subplots(figsize=figsize, facecolor=bgcolor, frameon=False)\n",
    "            ax.set_facecolor(bgcolor)\n",
    "    else:\n",
    "        fig = ax.figure  # type: ignore[assignment]\n",
    "\n",
    "    return fig, ax\n",
    "\n",
    "def plot_orientation(  # noqa: PLR0913\n",
    "    G: nx.MultiGraph | nx.MultiDiGraph,\n",
    "    *,\n",
    "    num_bins: int = 36,\n",
    "    min_length: float = 0,\n",
    "    weight: str | None = None,\n",
    "    ax: PolarAxes | None = None,\n",
    "    figsize: tuple[float, float] = (5, 5),\n",
    "    area: bool = True,\n",
    "    color: str = \"#003366\",\n",
    "    edgecolor: str = \"k\",\n",
    "    linewidth: float = 0.5,\n",
    "    alpha: float = 0.7,\n",
    "    title: str | None = None,\n",
    "    title_y: float = 1.05,\n",
    "    title_font: dict[str, Any] | None = None,\n",
    "    xtick_font: dict[str, Any] | None = None,\n",
    "    bin_counts = None,\n",
    "    bin_centers = None,\n",
    ") -> tuple[Figure, PolarAxes]:\n",
    "    \"\"\"\n",
    "    Plot a polar histogram of a spatial network's edge bearings.\n",
    "\n",
    "    Ignores self-loop edges as their bearings are undefined. If `G` is a\n",
    "    MultiGraph, all edge bearings will be bidirectional (ie, two reciprocal\n",
    "    bearings per undirected edge). If `G` is a MultiDiGraph, all edge bearings\n",
    "    will be directional (ie, one bearing per directed edge). See also the\n",
    "    `bearings` module.\n",
    "\n",
    "    For more info see: Boeing, G. 2019. \"Urban Spatial Order: Street Network\n",
    "    Orientation, Configuration, and Entropy.\" Applied Network Science, 4 (1),\n",
    "    67. https://doi.org/10.1007/s41109-019-0189-1\n",
    "\n",
    "    Parameters\n",
    "    ----------\n",
    "    G\n",
    "        Unprojected graph with `bearing` attributes on each edge.\n",
    "    num_bins\n",
    "        Number of bins. For example, if `num_bins=36` is provided, then each\n",
    "        bin will represent 10 degrees around the compass.\n",
    "    min_length\n",
    "        Ignore edges with \"length\" attribute values less than `min_length`.\n",
    "    weight\n",
    "        If not None, weight the edges' bearings by this (non-null) edge\n",
    "        attribute.\n",
    "    ax\n",
    "        If not None, plot on this pre-existing axes instance (must have\n",
    "        projection=polar).\n",
    "    figsize\n",
    "        If `ax` is None, create new figure with size `(width, height)`.\n",
    "    area\n",
    "        If True, set bar length so area is proportional to frequency.\n",
    "        Otherwise, set bar length so height is proportional to frequency.\n",
    "    color\n",
    "        Color of the histogram bars.\n",
    "    edgecolor\n",
    "        Color of the histogram bar edges.\n",
    "    linewidth\n",
    "        Width of the histogram bar edges.\n",
    "    alpha\n",
    "        Opacity of the histogram bars.\n",
    "    title\n",
    "        The figure's title.\n",
    "    title_y\n",
    "        The y position to place `title`.\n",
    "    title_font\n",
    "        The title's `fontdict` to pass to matplotlib.\n",
    "    xtick_font\n",
    "        The xtick labels' `fontdict` to pass to matplotlib.\n",
    "\n",
    "    Returns\n",
    "    -------\n",
    "    fig, ax\n",
    "        The resulting matplotlib figure and polar axes objects.\n",
    "    \"\"\"\n",
    "    _verify_mpl()\n",
    "\n",
    "    if title_font is None:\n",
    "        title_font = {\"family\": \"DejaVu Sans\", \"size\": 24, \"weight\": \"bold\"}\n",
    "    if xtick_font is None:\n",
    "        xtick_font = {\n",
    "            \"family\": \"DejaVu Sans\",\n",
    "            \"size\": 10,\n",
    "            \"weight\": \"bold\",\n",
    "            \"alpha\": 1.0,\n",
    "            \"zorder\": 3,\n",
    "        }\n",
    "\n",
    "    ## get the bearing distribution's bin counts and center values in degrees\n",
    "    #bin_counts, bin_centers = bearing._bearings_distribution(\n",
    "    #    G,\n",
    "    #    num_bins,\n",
    "    #    min_length=min_length,\n",
    "    #    weight=weight,\n",
    "    #)\n",
    "\n",
    "    # positions: where to center each bar\n",
    "    positions = np.deg2rad(bin_centers)\n",
    "\n",
    "    # width: make bars fill the circumference without gaps or overlaps\n",
    "    width = 2 * np.pi / num_bins\n",
    "\n",
    "    # radius: how long to make each bar. set bar length so either the bar area\n",
    "    # (ie, via sqrt) or the bar height is proportional to the bin's frequency\n",
    "    bin_frequency = bin_counts / bin_counts.sum()\n",
    "    radius = np.sqrt(bin_frequency) if area else bin_frequency\n",
    "\n",
    "    # create PolarAxes (if not passed-in) then set N at top and go clockwise\n",
    "    fig, ax = _get_fig_ax(ax=ax, figsize=figsize, bgcolor=None, polar=True)\n",
    "    ax.set_theta_zero_location(\"N\")\n",
    "    ax.set_theta_direction(\"clockwise\")\n",
    "    ax.set_ylim(top=radius.max())\n",
    "\n",
    "    # configure the y-ticks and remove their labels\n",
    "    ax.set_yticks(np.linspace(0, radius.max(), 5))\n",
    "    ax.set_yticklabels(labels=\"\")\n",
    "\n",
    "    # configure the x-ticks and their labels\n",
    "    xticklabels = [\"N\", \"\", \"E\", \"\", \"S\", \"\", \"W\", \"\"]\n",
    "    ax.set_xticks(ax.get_xticks())\n",
    "    ax.set_xticklabels(labels=xticklabels, fontdict=xtick_font)\n",
    "    ax.tick_params(axis=\"x\", which=\"major\", pad=-2)\n",
    "\n",
    "    # draw the bars\n",
    "    ax.bar(\n",
    "        positions,\n",
    "        height=radius,\n",
    "        width=width,\n",
    "        align=\"center\",\n",
    "        bottom=0,\n",
    "        zorder=2,\n",
    "        color=color,\n",
    "        edgecolor=edgecolor,\n",
    "        linewidth=linewidth,\n",
    "        alpha=alpha,\n",
    "    )\n",
    "\n",
    "    if title:\n",
    "        ax.set_title(title, y=title_y, fontdict=title_font)\n",
    "    fig.tight_layout()\n",
    "    return fig, ax"
   ]
  },
  {
   "cell_type": "code",
   "execution_count": null,
   "id": "1a322ca5-7970-4c6f-9318-dfd72305f0ff",
   "metadata": {},
   "outputs": [],
   "source": [
    "MG = nx.from_pandas_edgelist(\n",
    "    he_graph,\n",
    "    source='he_id_left',\n",
    "    target='he_id_right',\n",
    "    edge_attr='bc',\n",
    "    create_using=nx.MultiGraph()\n",
    ")"
   ]
  },
  {
   "cell_type": "code",
   "execution_count": null,
   "id": "c123a802-f914-4a03-a338-956dba603942",
   "metadata": {},
   "outputs": [],
   "source": [
    "plot_orientation(\n",
    "    MG,\n",
    "    bin_counts=bin_counts,\n",
    "    bin_centers=bin_centers\n",
    ")"
   ]
  },
  {
   "cell_type": "code",
   "execution_count": null,
   "id": "aad9403f-6456-45cc-99f8-b264f134961a",
   "metadata": {},
   "outputs": [],
   "source": []
  }
 ],
 "metadata": {
  "kernelspec": {
   "display_name": "Python 3 (ipykernel)",
   "language": "python",
   "name": "python3"
  },
  "language_info": {
   "codemirror_mode": {
    "name": "ipython",
    "version": 3
   },
   "file_extension": ".py",
   "mimetype": "text/x-python",
   "name": "python",
   "nbconvert_exporter": "python",
   "pygments_lexer": "ipython3",
   "version": "3.11.6"
  }
 },
 "nbformat": 4,
 "nbformat_minor": 5
}
