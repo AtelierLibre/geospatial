{
 "cells": [
  {
   "cell_type": "markdown",
   "id": "6f657220-d443-4528-b12c-f5c1c6eff7ff",
   "metadata": {},
   "source": [
    "# GeoPandas - Empty, Null, Invalid\n",
    "\n",
    "There are three ways geometries can be missing information\n",
    "\n",
    "- None: simply no geometry\n",
    "- Empty: valid geometry but without coordinates e.g. Point()\n",
    "- Invalid: geometry but with null coordinates e.g. Point(np.nan, np.nan)"
   ]
  },
  {
   "cell_type": "code",
   "execution_count": null,
   "id": "b082de87-35c3-497f-b4a3-8ab43fd5c2b4",
   "metadata": {},
   "outputs": [],
   "source": [
    "import geopandas as gpd\n",
    "import numpy as np\n",
    "from shapely import Point, LineString"
   ]
  },
  {
   "cell_type": "code",
   "execution_count": null,
   "id": "344fdfd1-c4a7-40a4-b959-9f20c2893537",
   "metadata": {},
   "outputs": [],
   "source": [
    "geometry = [Point(1,1), Point(), Point(np.nan,np.nan), None]"
   ]
  },
  {
   "cell_type": "code",
   "execution_count": null,
   "id": "34c7e11b-919b-4a08-83ac-6927a43cf726",
   "metadata": {},
   "outputs": [],
   "source": [
    "gdf = gpd.GeoDataFrame(\n",
    "    geometry=geometry\n",
    ")"
   ]
  },
  {
   "cell_type": "code",
   "execution_count": null,
   "id": "60ccd647-579c-4f6c-9a14-59d033889171",
   "metadata": {},
   "outputs": [],
   "source": [
    "gdf['is_valid'] = gdf.is_valid\n",
    "gdf['is_empty'] = gdf.geometry.is_empty\n",
    "gdf['is_null'] = gdf.geometry.isna()"
   ]
  },
  {
   "cell_type": "code",
   "execution_count": null,
   "id": "df394e20-04b3-43a7-af3c-ef10ec75fcfc",
   "metadata": {},
   "outputs": [],
   "source": [
    "gdf"
   ]
  },
  {
   "cell_type": "code",
   "execution_count": null,
   "id": "22617bfc-b888-4c5a-97de-8fcffc1ce6db",
   "metadata": {},
   "outputs": [],
   "source": []
  }
 ],
 "metadata": {
  "kernelspec": {
   "display_name": "Python 3 (ipykernel)",
   "language": "python",
   "name": "python3"
  },
  "language_info": {
   "codemirror_mode": {
    "name": "ipython",
    "version": 3
   },
   "file_extension": ".py",
   "mimetype": "text/x-python",
   "name": "python",
   "nbconvert_exporter": "python",
   "pygments_lexer": "ipython3",
   "version": "3.11.6"
  }
 },
 "nbformat": 4,
 "nbformat_minor": 5
}
