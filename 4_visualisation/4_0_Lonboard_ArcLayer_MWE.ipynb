{
 "cells": [
  {
   "cell_type": "markdown",
   "id": "c07d86e7-9ed6-4112-8536-0bf48187d199",
   "metadata": {},
   "source": [
    "# 4.0 Lonboard ArcLayer MWE"
   ]
  },
  {
   "cell_type": "code",
   "execution_count": null,
   "id": "4dfa44cc-e4d6-4b90-876e-6aa43ea60ff3",
   "metadata": {},
   "outputs": [],
   "source": [
    "import numpy as np\n",
    "import pyarrow as pa\n",
    "import lonboard as lb\n",
    "\n",
    "data = {\n",
    "'source' : ['London', 'Manchester', 'Bristol'],\n",
    "'target' : ['Manchester', 'Bristol', 'London']\n",
    "}\n",
    "\n",
    "source = np.array([(51.5072, 0.1276),(53.4808, 2.2426), (51.4545, 2.5879)])\n",
    "target = np.array([(53.4808, 2.2426), (51.4545, 2.5879), (51.5072, 0.1276)])\n",
    "\n",
    "table = pa.table(data)\n",
    "\n",
    "lb.experimental.ArcLayer(\n",
    "    table,\n",
    "    get_source_position=source,\n",
    "    get_target_position=target\n",
    ")"
   ]
  },
  {
   "cell_type": "code",
   "execution_count": null,
   "id": "d3964267-0f13-425b-b8f9-58d071c89374",
   "metadata": {},
   "outputs": [],
   "source": []
  }
 ],
 "metadata": {
  "kernelspec": {
   "display_name": "Python 3 (ipykernel)",
   "language": "python",
   "name": "python3"
  },
  "language_info": {
   "codemirror_mode": {
    "name": "ipython",
    "version": 3
   },
   "file_extension": ".py",
   "mimetype": "text/x-python",
   "name": "python",
   "nbconvert_exporter": "python",
   "pygments_lexer": "ipython3",
   "version": "3.13.7"
  }
 },
 "nbformat": 4,
 "nbformat_minor": 5
}
