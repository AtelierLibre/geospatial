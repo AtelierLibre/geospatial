{
 "cells": [
  {
   "cell_type": "markdown",
   "id": "c07d86e7-9ed6-4112-8536-0bf48187d199",
   "metadata": {},
   "source": [
    "# 4.0 Lonboard ArcLayer MWE"
   ]
  },
  {
   "cell_type": "code",
   "execution_count": null,
   "id": "14c75421-3bf9-4902-b31b-dfc9b21c1494",
   "metadata": {},
   "outputs": [],
   "source": [
    "import geoarrow.rust.core as grc\n",
    "import numpy as np\n",
    "import pyarrow as pa\n",
    "import lonboard as lb\n",
    "\n",
    "data = {\n",
    "'source' : ['London', 'Manchester', 'Bristol'],\n",
    "'target' : ['Manchester', 'Bristol', 'London']\n",
    "}\n",
    "table = pa.table(data)\n",
    "\n",
    "source = np.array([(-0.1276, 51.5072),(-2.2426, 53.4808), (-2.5879, 51.4545)])\n",
    "target = np.array([(-2.2426, 53.4808), (-2.5879, 51.4545), (-0.1276, 51.5072)])\n",
    "\n",
    "geo_source = grc.points(source, crs=4326)\n",
    "geo_target = grc.points(target, crs=4326)\n",
    "\n",
    "arc_layer = lb.experimental.ArcLayer(\n",
    "    table,\n",
    "    get_source_position=geo_source,\n",
    "    get_target_position=geo_target\n",
    ")\n",
    "\n",
    "lb.Map([arc_layer])"
   ]
  },
  {
   "cell_type": "code",
   "execution_count": null,
   "id": "38c0ab06-e06a-4581-8667-dccb7fad810d",
   "metadata": {},
   "outputs": [],
   "source": []
  }
 ],
 "metadata": {
  "kernelspec": {
   "display_name": "Python 3 (ipykernel)",
   "language": "python",
   "name": "python3"
  },
  "language_info": {
   "codemirror_mode": {
    "name": "ipython",
    "version": 3
   },
   "file_extension": ".py",
   "mimetype": "text/x-python",
   "name": "python",
   "nbconvert_exporter": "python",
   "pygments_lexer": "ipython3",
   "version": "3.13.7"
  }
 },
 "nbformat": 4,
 "nbformat_minor": 5
}
